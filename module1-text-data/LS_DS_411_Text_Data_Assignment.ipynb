{
 "cells": [
  {
   "cell_type": "markdown",
   "metadata": {},
   "source": [
    "<img align=\"left\" src=\"https://lever-client-logos.s3.amazonaws.com/864372b1-534c-480e-acd5-9711f850815c-1524247202159.png\" width=200>\n",
    "<br></br>\n",
    "<br></br>\n",
    "\n",
    "# Natural Language Processing (NLP)\n",
    "## *Data Science Unit 4 Sprint 1 Assignment 1*\n",
    "\n",
    "Your goal in this assignment: find the attributes of the best & worst coffee shops in the dataset. The text is fairly raw: dates in the review, extra words in the `star_rating` column, etc. You'll probably want to clean that stuff up for a better analysis. \n",
    "\n",
    "Analyze the corpus of text using text visualizations of token frequency. Try cleaning the data as much as possible. Try the following techniques: \n",
    "- Lemmatization\n",
    "- Custom stopword removal\n",
    "\n",
    "Keep in mind the attributes of good tokens. Once you have a solid baseline, layer in the star rating in your visualization(s). Key part of this assignment - produce a write-up of the attributes of the best and worst coffee shops. Based on your analysis, what makes the best the best and the worst the worst. Use graphs and numbesr from your analysis to support your conclusions. There should be plenty of markdown cells! :coffee:"
   ]
  },
  {
   "cell_type": "code",
   "execution_count": 174,
   "metadata": {},
   "outputs": [],
   "source": [
    "# Import Required Libariries\n",
    "import pandas as pd\n",
    "from collections import Counter\n",
    "from tqdm import tqdm\n",
    "tqdm.pandas()\n",
    "import count\n",
    "\n",
    "# Plotting\n",
    "import squarify\n",
    "import matplotlib.pyplot as plt\n",
    "import seaborn as sns\n",
    "\n",
    "# NLP Libraries\n",
    "import re\n",
    "from nltk.stem import PorterStemmer\n",
    "import spacy\n",
    "from spacy.tokenizer import Tokenizer\n"
   ]
  },
  {
   "cell_type": "code",
   "execution_count": 1,
   "metadata": {},
   "outputs": [
    {
     "data": {
      "image/jpeg": "[encoded data removed]",
      "text/html": [
       "\n",
       "        <iframe\n",
       "            width=\"400\"\n",
       "            height=\"300\"\n",
       "            src=\"https://www.youtube.com/embed/Jml7NVYm8cs\"\n",
       "            frameborder=\"0\"\n",
       "            allowfullscreen\n",
       "        ></iframe>\n",
       "        "
      ],
      "text/plain": [
       "<IPython.lib.display.YouTubeVideo at 0x1cb64fe02b0>"
      ]
     },
     "execution_count": 1,
     "metadata": {},
     "output_type": "execute_result"
    }
   ],
   "source": [
    "from IPython.display import YouTubeVideo\n",
    "\n",
    "YouTubeVideo('Jml7NVYm8cs')"
   ]
  },
  {
   "cell_type": "code",
   "execution_count": 4,
   "metadata": {},
   "outputs": [
    {
     "data": {
      "text/plain": [
       "'Z:\\\\DataScience\\\\DS-Unit-4-Sprint-1-NLP\\\\module1-text-data'"
      ]
     },
     "execution_count": 4,
     "metadata": {},
     "output_type": "execute_result"
    }
   ],
   "source": [
    "%pwd\n",
    "#the pwd command writes the full pathname of the current working directory to the standard output."
   ]
  },
  {
   "cell_type": "code",
   "execution_count": 5,
   "metadata": {},
   "outputs": [
    {
     "data": {
      "text/html": [
       "<div>\n",
       "<style scoped>\n",
       "    .dataframe tbody tr th:only-of-type {\n",
       "        vertical-align: middle;\n",
       "    }\n",
       "\n",
       "    .dataframe tbody tr th {\n",
       "        vertical-align: top;\n",
       "    }\n",
       "\n",
       "    .dataframe thead th {\n",
       "        text-align: right;\n",
       "    }\n",
       "</style>\n",
       "<table border=\"1\" class=\"dataframe\">\n",
       "  <thead>\n",
       "    <tr style=\"text-align: right;\">\n",
       "      <th></th>\n",
       "      <th>coffee_shop_name</th>\n",
       "      <th>full_review_text</th>\n",
       "      <th>star_rating</th>\n",
       "    </tr>\n",
       "  </thead>\n",
       "  <tbody>\n",
       "    <tr>\n",
       "      <th>0</th>\n",
       "      <td>The Factory - Cafe With a Soul</td>\n",
       "      <td>11/25/2016 1 check-in Love love loved the atm...</td>\n",
       "      <td>5.0 star rating</td>\n",
       "    </tr>\n",
       "    <tr>\n",
       "      <th>1</th>\n",
       "      <td>The Factory - Cafe With a Soul</td>\n",
       "      <td>12/2/2016 Listed in Date Night: Austin, Ambia...</td>\n",
       "      <td>4.0 star rating</td>\n",
       "    </tr>\n",
       "    <tr>\n",
       "      <th>2</th>\n",
       "      <td>The Factory - Cafe With a Soul</td>\n",
       "      <td>11/30/2016 1 check-in Listed in Brunch Spots ...</td>\n",
       "      <td>4.0 star rating</td>\n",
       "    </tr>\n",
       "    <tr>\n",
       "      <th>3</th>\n",
       "      <td>The Factory - Cafe With a Soul</td>\n",
       "      <td>11/25/2016 Very cool decor! Good drinks Nice ...</td>\n",
       "      <td>2.0 star rating</td>\n",
       "    </tr>\n",
       "    <tr>\n",
       "      <th>4</th>\n",
       "      <td>The Factory - Cafe With a Soul</td>\n",
       "      <td>12/3/2016 1 check-in They are located within ...</td>\n",
       "      <td>4.0 star rating</td>\n",
       "    </tr>\n",
       "  </tbody>\n",
       "</table>\n",
       "</div>"
      ],
      "text/plain": [
       "                  coffee_shop_name  \\\n",
       "0  The Factory - Cafe With a Soul    \n",
       "1  The Factory - Cafe With a Soul    \n",
       "2  The Factory - Cafe With a Soul    \n",
       "3  The Factory - Cafe With a Soul    \n",
       "4  The Factory - Cafe With a Soul    \n",
       "\n",
       "                                    full_review_text        star_rating  \n",
       "0   11/25/2016 1 check-in Love love loved the atm...   5.0 star rating   \n",
       "1   12/2/2016 Listed in Date Night: Austin, Ambia...   4.0 star rating   \n",
       "2   11/30/2016 1 check-in Listed in Brunch Spots ...   4.0 star rating   \n",
       "3   11/25/2016 Very cool decor! Good drinks Nice ...   2.0 star rating   \n",
       "4   12/3/2016 1 check-in They are located within ...   4.0 star rating   "
      ]
     },
     "execution_count": 5,
     "metadata": {},
     "output_type": "execute_result"
    }
   ],
   "source": [
    "url = \"https://raw.githubusercontent.com/LambdaSchool/DS-Unit-4-Sprint-1-NLP/main/module1-text-data/data/yelp_coffeeshop_review_data.csv\"\n",
    "\n",
    "shops = pd.read_csv(url)\n",
    "shops.head()"
   ]
  },
  {
   "cell_type": "code",
   "execution_count": 237,
   "metadata": {},
   "outputs": [],
   "source": [
    "def keep_alpha(text):\n",
    "    \"keep lower case letters\"\n",
    "    text = re.sub('[^a-z]',' ',text)\n",
    "    return text"
   ]
  },
  {
   "cell_type": "code",
   "execution_count": 253,
   "metadata": {},
   "outputs": [
    {
     "data": {
      "text/plain": [
       "'hello jose Urena'"
      ]
     },
     "execution_count": 253,
     "metadata": {},
     "output_type": "execute_result"
    }
   ],
   "source": [
    "\" \".join(\"hello    jose \\t\\n  Urena\".split(None))"
   ]
  },
  {
   "cell_type": "code",
   "execution_count": 257,
   "metadata": {},
   "outputs": [],
   "source": [
    "#Make all text lower case, strip white leading and trailing spaces & removes date at beginning of the text. \n",
    "shops['wrangled_review'] = shops['full_review_text'].apply(lambda x: keep_alpha(x.lower().split(None,1)[1]).strip())"
   ]
  },
  {
   "cell_type": "code",
   "execution_count": 259,
   "metadata": {},
   "outputs": [],
   "source": [
    "shops['wrangled_review'] = shops['wrangled_review'].apply(lambda x: \" \".join(x.split()))\n",
    "#to get rid of extra spaces created by the regular expression keep_alpha"
   ]
  },
  {
   "cell_type": "code",
   "execution_count": 154,
   "metadata": {},
   "outputs": [],
   "source": [
    "pd.set_option('display.max_colwidth', 300)"
   ]
  },
  {
   "cell_type": "code",
   "execution_count": 260,
   "metadata": {},
   "outputs": [
    {
     "name": "stdout",
     "output_type": "stream",
     "text": [
      "check in love love loved the atmosphere every corner of the coffee shop had its own style and there were swings i ordered the matcha latte and it was muy fantastico ordering and getting my drink were pretty streamlined i ordered on an ipad which included all beverage selections that ranged from coffee to wine desired level of sweetness and a checkout system i got my latte within minutes i was hoping for a typical heart or feather on my latte but found myself listing out all the possibilities of what the art may be any ideas\n"
     ]
    }
   ],
   "source": [
    "sample_review = shops['wrangled_review'][0]\n",
    "print(sample_review)"
   ]
  },
  {
   "cell_type": "code",
   "execution_count": 148,
   "metadata": {},
   "outputs": [],
   "source": [
    "nlp = spacy.load(\"en_core_web_md\")"
   ]
  },
  {
   "cell_type": "code",
   "execution_count": 157,
   "metadata": {},
   "outputs": [
    {
     "data": {
      "text/html": [
       "<div>\n",
       "<style scoped>\n",
       "    .dataframe tbody tr th:only-of-type {\n",
       "        vertical-align: middle;\n",
       "    }\n",
       "\n",
       "    .dataframe tbody tr th {\n",
       "        vertical-align: top;\n",
       "    }\n",
       "\n",
       "    .dataframe thead th {\n",
       "        text-align: right;\n",
       "    }\n",
       "</style>\n",
       "<table border=\"1\" class=\"dataframe\">\n",
       "  <thead>\n",
       "    <tr style=\"text-align: right;\">\n",
       "      <th></th>\n",
       "      <th>wrangled_review</th>\n",
       "      <th>full_review_text</th>\n",
       "    </tr>\n",
       "  </thead>\n",
       "  <tbody>\n",
       "    <tr>\n",
       "      <th>0</th>\n",
       "      <td>checkin love love loved the atmosphere every corner of the coffee shop had its own style and there were swings i ordered the matcha latte and it was muy fantastico ordering and getting my drink were pretty streamlined i ordered on an ipad which included all beverage selections that ranged from c...</td>\n",
       "      <td>11/25/2016 1 check-in Love love loved the atmosphere! Every corner of the coffee shop had its own style, and there were swings!!! I ordered the matcha latte, and it was muy fantastico! Ordering and getting my drink were pretty streamlined. I ordered on an iPad, which included all beverage selec...</td>\n",
       "    </tr>\n",
       "    <tr>\n",
       "      <th>1</th>\n",
       "      <td>listed in date night austin ambiance in austin beautiful love the ambiance instagramworthy  definitely  so be prepared this is gonna cost you a pretty penny  waffle dessert was just decentnothing to rave about  but will probably be back just to be somewhere unique and nice</td>\n",
       "      <td>12/2/2016 Listed in Date Night: Austin, Ambiance in Austin BEAUTIFUL!!!! Love the ambiance! Instagram-worthy!!!  Definitely $$$, so be prepared. This is gonna cost you a pretty penny :) Waffle dessert was just decent...nothing to rave about.  But, will probably be back just to be somewhere uniq...</td>\n",
       "    </tr>\n",
       "    <tr>\n",
       "      <th>2</th>\n",
       "      <td>checkin listed in brunch spots i loved the eclectic and homey plush decor and who doesnt want to swing and drink their coffee  i would categorize this as a pricier coffee place but to me it was worth it  after thanksgiving nobody wants to make brunch so we headed out in search of chicken and waf...</td>\n",
       "      <td>11/30/2016 1 check-in Listed in Brunch Spots I loved the eclectic and homey plush decor and who doesn't want to swing and drink their coffee?  I would categorize this as a pricier coffee place but, to me it was worth it.  After Thanksgiving nobody wants to make brunch so we headed out in search...</td>\n",
       "    </tr>\n",
       "    <tr>\n",
       "      <th>3</th>\n",
       "      <td>very cool decor good drinks nice seating  however  just about everything is overpriced  extra for  ounces of almond milk in a cortado no wifi music is a bit loud and the mix is odd  pleasant french oldies followed by loud techno several tables were dirty when we got there service is average  it ...</td>\n",
       "      <td>11/25/2016 Very cool decor! Good drinks Nice seating  However...  Just about everything is overpriced. $1.50 extra for 3 ounces of Almond Milk in a cortado. No WiFi Music is a bit loud and the mix is odd.  Pleasant French oldies followed by loud techno. Several tables were dirty when we got the...</td>\n",
       "    </tr>\n",
       "    <tr>\n",
       "      <th>4</th>\n",
       "      <td>checkin they are located within the northcross mall shopping center facing east toward burnet rd with plenty of parking i loved their computerized user friendly ordering system it made it easy me to pick  choose all the items i wanted to try i ordered pop tart chicken  waffles strawberry waffles...</td>\n",
       "      <td>12/3/2016 1 check-in They are located within the Northcross mall shopping center facing east toward Burnet Rd with plenty of parking. I loved their computerized user friendly ordering system, it made it easy me to pick &amp; choose all the items I wanted to try. I ordered pop tart, chicken &amp; waffle...</td>\n",
       "    </tr>\n",
       "  </tbody>\n",
       "</table>\n",
       "</div>"
      ],
      "text/plain": [
       "                                                                                                                                                                                                                                                                                               wrangled_review  \\\n",
       "0  checkin love love loved the atmosphere every corner of the coffee shop had its own style and there were swings i ordered the matcha latte and it was muy fantastico ordering and getting my drink were pretty streamlined i ordered on an ipad which included all beverage selections that ranged from c...   \n",
       "1                            listed in date night austin ambiance in austin beautiful love the ambiance instagramworthy  definitely  so be prepared this is gonna cost you a pretty penny  waffle dessert was just decentnothing to rave about  but will probably be back just to be somewhere unique and nice   \n",
       "2  checkin listed in brunch spots i loved the eclectic and homey plush decor and who doesnt want to swing and drink their coffee  i would categorize this as a pricier coffee place but to me it was worth it  after thanksgiving nobody wants to make brunch so we headed out in search of chicken and waf...   \n",
       "3  very cool decor good drinks nice seating  however  just about everything is overpriced  extra for  ounces of almond milk in a cortado no wifi music is a bit loud and the mix is odd  pleasant french oldies followed by loud techno several tables were dirty when we got there service is average  it ...   \n",
       "4  checkin they are located within the northcross mall shopping center facing east toward burnet rd with plenty of parking i loved their computerized user friendly ordering system it made it easy me to pick  choose all the items i wanted to try i ordered pop tart chicken  waffles strawberry waffles...   \n",
       "\n",
       "                                                                                                                                                                                                                                                                                              full_review_text  \n",
       "0   11/25/2016 1 check-in Love love loved the atmosphere! Every corner of the coffee shop had its own style, and there were swings!!! I ordered the matcha latte, and it was muy fantastico! Ordering and getting my drink were pretty streamlined. I ordered on an iPad, which included all beverage selec...  \n",
       "1   12/2/2016 Listed in Date Night: Austin, Ambiance in Austin BEAUTIFUL!!!! Love the ambiance! Instagram-worthy!!!  Definitely $$$, so be prepared. This is gonna cost you a pretty penny :) Waffle dessert was just decent...nothing to rave about.  But, will probably be back just to be somewhere uniq...  \n",
       "2   11/30/2016 1 check-in Listed in Brunch Spots I loved the eclectic and homey plush decor and who doesn't want to swing and drink their coffee?  I would categorize this as a pricier coffee place but, to me it was worth it.  After Thanksgiving nobody wants to make brunch so we headed out in search...  \n",
       "3   11/25/2016 Very cool decor! Good drinks Nice seating  However...  Just about everything is overpriced. $1.50 extra for 3 ounces of Almond Milk in a cortado. No WiFi Music is a bit loud and the mix is odd.  Pleasant French oldies followed by loud techno. Several tables were dirty when we got the...  \n",
       "4   12/3/2016 1 check-in They are located within the Northcross mall shopping center facing east toward Burnet Rd with plenty of parking. I loved their computerized user friendly ordering system, it made it easy me to pick & choose all the items I wanted to try. I ordered pop tart, chicken & waffle...  "
      ]
     },
     "execution_count": 157,
     "metadata": {},
     "output_type": "execute_result"
    }
   ],
   "source": [
    "shops[['wrangled_review', 'full_review_text']].head(5)"
   ]
  },
  {
   "cell_type": "code",
   "execution_count": 263,
   "metadata": {},
   "outputs": [
    {
     "data": {
      "text/plain": [
       "0"
      ]
     },
     "execution_count": 263,
     "metadata": {},
     "output_type": "execute_result"
    }
   ],
   "source": [
    "shops['wrangled_review'].isnull().sum()"
   ]
  },
  {
   "cell_type": "code",
   "execution_count": 264,
   "metadata": {},
   "outputs": [
    {
     "name": "stdout",
     "output_type": "stream",
     "text": [
      "<spacy.lang.en.English object at 0x000001CB5B91A0D0>\n"
     ]
    }
   ],
   "source": [
    "print(nlp)"
   ]
  },
  {
   "cell_type": "code",
   "execution_count": 265,
   "metadata": {},
   "outputs": [],
   "source": [
    "tokenizer = Tokenizer(nlp.vocab)"
   ]
  },
  {
   "cell_type": "code",
   "execution_count": 353,
   "metadata": {},
   "outputs": [],
   "source": [
    "STOP_WORDS = nlp.Defaults.stop_words.union([\"check-in\",\"checkin\", \"coffee\",\"place\",\"work\",\"drink\"])"
   ]
  },
  {
   "cell_type": "code",
   "execution_count": 354,
   "metadata": {},
   "outputs": [],
   "source": [
    "tokens = []\n",
    "#tokens is the list of words return by for-loop tokenzied and no stop words words = token\n",
    "for review in tokenizer.pipe(shops['wrangled_review'], batch_size=500):\n",
    "    doc_tokens = [word.lemma_ for word in review if \n",
    "                  ((word.text not in STOP_WORDS) and (len(word.text)>2))]\n",
    "    tokens.append(doc_tokens)\n",
    "\n",
    "shops['tokenized_review'] = tokens"
   ]
  },
  {
   "cell_type": "code",
   "execution_count": 356,
   "metadata": {},
   "outputs": [
    {
     "data": {
      "text/plain": [
       "0    [check, love, love, love, atmosphere, corner, shop, style, swing, order, matcha, latte, muy, fantastico, order, get, pretty, streamline, order, ipad, include, beverage, selection, range, wine, desire, level, sweetness, checkout, system, get, latte, minute, hope, typical, heart, feather, latte, f...\n",
       "1                                                                                                            [list, date, night, austin, ambiance, austin, beautiful, love, ambiance, instagram, worthy, definitely, prepare, gonna, cost, pretty, penny, waffle, dessert, decent, rave, probably, unique, nice]\n",
       "2    [check, list, brunch, spot, love, eclectic, homey, plush, decor, doesn, want, swing, categorize, pricey, worth, thanksgiving, want, brunch, head, search, chicken, waffle, ample, park, private, lot, order, pad, pick, seat, item, ready, patient, drink, long, cold, brew, chicken, waffle, share, pop...\n",
       "Name: tokenized_review, dtype: object"
      ]
     },
     "execution_count": 356,
     "metadata": {},
     "output_type": "execute_result"
    }
   ],
   "source": [
    "shops['tokenized_review'].head(3)"
   ]
  },
  {
   "cell_type": "code",
   "execution_count": 357,
   "metadata": {},
   "outputs": [
    {
     "data": {
      "text/plain": [
       "529"
      ]
     },
     "execution_count": 357,
     "metadata": {},
     "output_type": "execute_result"
    }
   ],
   "source": [
    "len(shops['wrangled_review'][0])"
   ]
  },
  {
   "cell_type": "code",
   "execution_count": 358,
   "metadata": {},
   "outputs": [
    {
     "data": {
      "text/plain": [
       "43"
      ]
     },
     "execution_count": 358,
     "metadata": {},
     "output_type": "execute_result"
    }
   ],
   "source": [
    "len(shops['tokenized_review'][0])"
   ]
  },
  {
   "cell_type": "code",
   "execution_count": 359,
   "metadata": {},
   "outputs": [
    {
     "data": {
      "text/plain": [
       "44"
      ]
     },
     "execution_count": 359,
     "metadata": {},
     "output_type": "execute_result"
    }
   ],
   "source": [
    "len(shops['lemmas_review'][0])"
   ]
  },
  {
   "cell_type": "markdown",
   "metadata": {},
   "source": [
    "## How do we want to analyze these coffee shop tokens? \n",
    "\n",
    "- Overall Word / Token Count\n",
    "- View Counts by Rating \n",
    "- *Hint:* a 'bad' coffee shops has a rating betweeen 1 & 3 based on the distribution of ratings. A 'good' coffee shop is a 4 or 5. "
   ]
  },
  {
   "cell_type": "code",
   "execution_count": 318,
   "metadata": {},
   "outputs": [],
   "source": [
    "def count(docs):\n",
    "    '''This function takes a list of tokenized documents as input and returns\n",
    "    a dataframe with frequency counts and rank for each token.\n",
    "    \n",
    "    # Arguments\n",
    "        docs: list, tokenized list of documents\n",
    "        \n",
    "    # Returns\n",
    "        wc: dataframe, \n",
    "    '''\n",
    "    \n",
    "    word_counts = Counter()\n",
    "    appears_in = Counter()\n",
    "\n",
    "    total_docs = len(docs)\n",
    "\n",
    "    for doc in docs:\n",
    "        word_counts.update(doc)\n",
    "        appears_in.update(set(doc))\n",
    "\n",
    "    temp = zip(word_counts.keys(), word_counts.values())\n",
    "\n",
    "    wc = pd.DataFrame(temp, columns = ['word', 'count'])\n",
    "\n",
    "    wc['rank'] = wc['count'].rank(method='first', ascending=False)\n",
    "    total = wc['count'].sum()\n",
    "\n",
    "    wc['pct_total'] = wc['count'].apply(lambda x: x / total)\n",
    "\n",
    "    wc = wc.sort_values(by='rank')\n",
    "    wc['cul_pct_total'] = wc['pct_total'].cumsum()\n",
    "\n",
    "    t2 = zip(appears_in.keys(), appears_in.values())\n",
    "    ac = pd.DataFrame(t2, columns=['word', 'appears_in'])\n",
    "    wc = ac.merge(wc, on='word')\n",
    "\n",
    "    wc['appears_in_pct'] = wc['appears_in'].apply(lambda x: x / total_docs)\n",
    "\n",
    "    return wc.sort_values(by='rank')"
   ]
  },
  {
   "cell_type": "code",
   "execution_count": 361,
   "metadata": {},
   "outputs": [
    {
     "name": "stdout",
     "output_type": "stream",
     "text": [
      "(12322, 7)\n"
     ]
    },
    {
     "data": {
      "text/html": [
       "<div>\n",
       "<style scoped>\n",
       "    .dataframe tbody tr th:only-of-type {\n",
       "        vertical-align: middle;\n",
       "    }\n",
       "\n",
       "    .dataframe tbody tr th {\n",
       "        vertical-align: top;\n",
       "    }\n",
       "\n",
       "    .dataframe thead th {\n",
       "        text-align: right;\n",
       "    }\n",
       "</style>\n",
       "<table border=\"1\" class=\"dataframe\">\n",
       "  <thead>\n",
       "    <tr style=\"text-align: right;\">\n",
       "      <th></th>\n",
       "      <th>word</th>\n",
       "      <th>appears_in</th>\n",
       "      <th>count</th>\n",
       "      <th>rank</th>\n",
       "      <th>pct_total</th>\n",
       "      <th>cul_pct_total</th>\n",
       "      <th>appears_in_pct</th>\n",
       "    </tr>\n",
       "  </thead>\n",
       "  <tbody>\n",
       "    <tr>\n",
       "      <th>132</th>\n",
       "      <td>good</td>\n",
       "      <td>2893</td>\n",
       "      <td>4187</td>\n",
       "      <td>1.0</td>\n",
       "      <td>0.012524</td>\n",
       "      <td>0.012524</td>\n",
       "      <td>0.379858</td>\n",
       "    </tr>\n",
       "    <tr>\n",
       "      <th>102</th>\n",
       "      <td>great</td>\n",
       "      <td>2862</td>\n",
       "      <td>3966</td>\n",
       "      <td>2.0</td>\n",
       "      <td>0.011863</td>\n",
       "      <td>0.024386</td>\n",
       "      <td>0.375788</td>\n",
       "    </tr>\n",
       "    <tr>\n",
       "      <th>2</th>\n",
       "      <td>check</td>\n",
       "      <td>3175</td>\n",
       "      <td>3469</td>\n",
       "      <td>3.0</td>\n",
       "      <td>0.010376</td>\n",
       "      <td>0.034762</td>\n",
       "      <td>0.416886</td>\n",
       "    </tr>\n",
       "    <tr>\n",
       "      <th>134</th>\n",
       "      <td>like</td>\n",
       "      <td>2286</td>\n",
       "      <td>3403</td>\n",
       "      <td>4.0</td>\n",
       "      <td>0.010179</td>\n",
       "      <td>0.044941</td>\n",
       "      <td>0.300158</td>\n",
       "    </tr>\n",
       "    <tr>\n",
       "      <th>391</th>\n",
       "      <td>come</td>\n",
       "      <td>1935</td>\n",
       "      <td>2642</td>\n",
       "      <td>5.0</td>\n",
       "      <td>0.007902</td>\n",
       "      <td>0.052843</td>\n",
       "      <td>0.254070</td>\n",
       "    </tr>\n",
       "    <tr>\n",
       "      <th>451</th>\n",
       "      <td>time</td>\n",
       "      <td>1775</td>\n",
       "      <td>2407</td>\n",
       "      <td>6.0</td>\n",
       "      <td>0.007200</td>\n",
       "      <td>0.060043</td>\n",
       "      <td>0.233062</td>\n",
       "    </tr>\n",
       "    <tr>\n",
       "      <th>26</th>\n",
       "      <td>love</td>\n",
       "      <td>1826</td>\n",
       "      <td>2394</td>\n",
       "      <td>7.0</td>\n",
       "      <td>0.007161</td>\n",
       "      <td>0.067203</td>\n",
       "      <td>0.239758</td>\n",
       "    </tr>\n",
       "    <tr>\n",
       "      <th>47</th>\n",
       "      <td>austin</td>\n",
       "      <td>1843</td>\n",
       "      <td>2347</td>\n",
       "      <td>8.0</td>\n",
       "      <td>0.007020</td>\n",
       "      <td>0.074224</td>\n",
       "      <td>0.241991</td>\n",
       "    </tr>\n",
       "    <tr>\n",
       "      <th>25</th>\n",
       "      <td>shop</td>\n",
       "      <td>1702</td>\n",
       "      <td>2299</td>\n",
       "      <td>9.0</td>\n",
       "      <td>0.006876</td>\n",
       "      <td>0.081100</td>\n",
       "      <td>0.223477</td>\n",
       "    </tr>\n",
       "    <tr>\n",
       "      <th>4</th>\n",
       "      <td>order</td>\n",
       "      <td>1477</td>\n",
       "      <td>2196</td>\n",
       "      <td>10.0</td>\n",
       "      <td>0.006568</td>\n",
       "      <td>0.087668</td>\n",
       "      <td>0.193934</td>\n",
       "    </tr>\n",
       "    <tr>\n",
       "      <th>63</th>\n",
       "      <td>try</td>\n",
       "      <td>1676</td>\n",
       "      <td>2148</td>\n",
       "      <td>11.0</td>\n",
       "      <td>0.006425</td>\n",
       "      <td>0.094093</td>\n",
       "      <td>0.220063</td>\n",
       "    </tr>\n",
       "    <tr>\n",
       "      <th>308</th>\n",
       "      <td>well</td>\n",
       "      <td>1633</td>\n",
       "      <td>1995</td>\n",
       "      <td>12.0</td>\n",
       "      <td>0.005967</td>\n",
       "      <td>0.100060</td>\n",
       "      <td>0.214417</td>\n",
       "    </tr>\n",
       "    <tr>\n",
       "      <th>278</th>\n",
       "      <td>food</td>\n",
       "      <td>1432</td>\n",
       "      <td>1942</td>\n",
       "      <td>13.0</td>\n",
       "      <td>0.005809</td>\n",
       "      <td>0.105869</td>\n",
       "      <td>0.188025</td>\n",
       "    </tr>\n",
       "    <tr>\n",
       "      <th>23</th>\n",
       "      <td>latte</td>\n",
       "      <td>1269</td>\n",
       "      <td>1888</td>\n",
       "      <td>14.0</td>\n",
       "      <td>0.005647</td>\n",
       "      <td>0.111516</td>\n",
       "      <td>0.166623</td>\n",
       "    </tr>\n",
       "    <tr>\n",
       "      <th>32</th>\n",
       "      <td>get</td>\n",
       "      <td>1452</td>\n",
       "      <td>1884</td>\n",
       "      <td>15.0</td>\n",
       "      <td>0.005635</td>\n",
       "      <td>0.117151</td>\n",
       "      <td>0.190651</td>\n",
       "    </tr>\n",
       "    <tr>\n",
       "      <th>39</th>\n",
       "      <td>nice</td>\n",
       "      <td>1513</td>\n",
       "      <td>1810</td>\n",
       "      <td>16.0</td>\n",
       "      <td>0.005414</td>\n",
       "      <td>0.122565</td>\n",
       "      <td>0.198661</td>\n",
       "    </tr>\n",
       "    <tr>\n",
       "      <th>172</th>\n",
       "      <td>friendly</td>\n",
       "      <td>1636</td>\n",
       "      <td>1735</td>\n",
       "      <td>17.0</td>\n",
       "      <td>0.005190</td>\n",
       "      <td>0.127755</td>\n",
       "      <td>0.214811</td>\n",
       "    </tr>\n",
       "    <tr>\n",
       "      <th>468</th>\n",
       "      <td>ice</td>\n",
       "      <td>1093</td>\n",
       "      <td>1592</td>\n",
       "      <td>18.0</td>\n",
       "      <td>0.004762</td>\n",
       "      <td>0.132517</td>\n",
       "      <td>0.143514</td>\n",
       "    </tr>\n",
       "    <tr>\n",
       "      <th>83</th>\n",
       "      <td>seat</td>\n",
       "      <td>1220</td>\n",
       "      <td>1529</td>\n",
       "      <td>19.0</td>\n",
       "      <td>0.004573</td>\n",
       "      <td>0.137090</td>\n",
       "      <td>0.160189</td>\n",
       "    </tr>\n",
       "    <tr>\n",
       "      <th>275</th>\n",
       "      <td>tea</td>\n",
       "      <td>810</td>\n",
       "      <td>1514</td>\n",
       "      <td>20.0</td>\n",
       "      <td>0.004528</td>\n",
       "      <td>0.141618</td>\n",
       "      <td>0.106355</td>\n",
       "    </tr>\n",
       "  </tbody>\n",
       "</table>\n",
       "</div>"
      ],
      "text/plain": [
       "         word  appears_in  count  rank  pct_total  cul_pct_total  \\\n",
       "132      good        2893   4187   1.0   0.012524       0.012524   \n",
       "102     great        2862   3966   2.0   0.011863       0.024386   \n",
       "2       check        3175   3469   3.0   0.010376       0.034762   \n",
       "134      like        2286   3403   4.0   0.010179       0.044941   \n",
       "391      come        1935   2642   5.0   0.007902       0.052843   \n",
       "451      time        1775   2407   6.0   0.007200       0.060043   \n",
       "26       love        1826   2394   7.0   0.007161       0.067203   \n",
       "47     austin        1843   2347   8.0   0.007020       0.074224   \n",
       "25       shop        1702   2299   9.0   0.006876       0.081100   \n",
       "4       order        1477   2196  10.0   0.006568       0.087668   \n",
       "63        try        1676   2148  11.0   0.006425       0.094093   \n",
       "308      well        1633   1995  12.0   0.005967       0.100060   \n",
       "278      food        1432   1942  13.0   0.005809       0.105869   \n",
       "23      latte        1269   1888  14.0   0.005647       0.111516   \n",
       "32        get        1452   1884  15.0   0.005635       0.117151   \n",
       "39       nice        1513   1810  16.0   0.005414       0.122565   \n",
       "172  friendly        1636   1735  17.0   0.005190       0.127755   \n",
       "468       ice        1093   1592  18.0   0.004762       0.132517   \n",
       "83       seat        1220   1529  19.0   0.004573       0.137090   \n",
       "275       tea         810   1514  20.0   0.004528       0.141618   \n",
       "\n",
       "     appears_in_pct  \n",
       "132        0.379858  \n",
       "102        0.375788  \n",
       "2          0.416886  \n",
       "134        0.300158  \n",
       "391        0.254070  \n",
       "451        0.233062  \n",
       "26         0.239758  \n",
       "47         0.241991  \n",
       "25         0.223477  \n",
       "4          0.193934  \n",
       "63         0.220063  \n",
       "308        0.214417  \n",
       "278        0.188025  \n",
       "23         0.166623  \n",
       "32         0.190651  \n",
       "39         0.198661  \n",
       "172        0.214811  \n",
       "468        0.143514  \n",
       "83         0.160189  \n",
       "275        0.106355  "
      ]
     },
     "metadata": {},
     "output_type": "display_data"
    },
    {
     "data": {
      "text/html": [
       "<div>\n",
       "<style scoped>\n",
       "    .dataframe tbody tr th:only-of-type {\n",
       "        vertical-align: middle;\n",
       "    }\n",
       "\n",
       "    .dataframe tbody tr th {\n",
       "        vertical-align: top;\n",
       "    }\n",
       "\n",
       "    .dataframe thead th {\n",
       "        text-align: right;\n",
       "    }\n",
       "</style>\n",
       "<table border=\"1\" class=\"dataframe\">\n",
       "  <thead>\n",
       "    <tr style=\"text-align: right;\">\n",
       "      <th></th>\n",
       "      <th>word</th>\n",
       "      <th>appears_in</th>\n",
       "      <th>count</th>\n",
       "      <th>rank</th>\n",
       "      <th>pct_total</th>\n",
       "      <th>cul_pct_total</th>\n",
       "      <th>appears_in_pct</th>\n",
       "    </tr>\n",
       "  </thead>\n",
       "  <tbody>\n",
       "    <tr>\n",
       "      <th>12297</th>\n",
       "      <td>balsalmic</td>\n",
       "      <td>1</td>\n",
       "      <td>1</td>\n",
       "      <td>12303.0</td>\n",
       "      <td>0.000003</td>\n",
       "      <td>0.999943</td>\n",
       "      <td>0.000131</td>\n",
       "    </tr>\n",
       "    <tr>\n",
       "      <th>12300</th>\n",
       "      <td>beast</td>\n",
       "      <td>1</td>\n",
       "      <td>1</td>\n",
       "      <td>12304.0</td>\n",
       "      <td>0.000003</td>\n",
       "      <td>0.999946</td>\n",
       "      <td>0.000131</td>\n",
       "    </tr>\n",
       "    <tr>\n",
       "      <th>12302</th>\n",
       "      <td>ridick</td>\n",
       "      <td>1</td>\n",
       "      <td>1</td>\n",
       "      <td>12305.0</td>\n",
       "      <td>0.000003</td>\n",
       "      <td>0.999949</td>\n",
       "      <td>0.000131</td>\n",
       "    </tr>\n",
       "    <tr>\n",
       "      <th>12304</th>\n",
       "      <td>whited</td>\n",
       "      <td>1</td>\n",
       "      <td>1</td>\n",
       "      <td>12306.0</td>\n",
       "      <td>0.000003</td>\n",
       "      <td>0.999952</td>\n",
       "      <td>0.000131</td>\n",
       "    </tr>\n",
       "    <tr>\n",
       "      <th>12299</th>\n",
       "      <td>divorce</td>\n",
       "      <td>1</td>\n",
       "      <td>1</td>\n",
       "      <td>12307.0</td>\n",
       "      <td>0.000003</td>\n",
       "      <td>0.999955</td>\n",
       "      <td>0.000131</td>\n",
       "    </tr>\n",
       "    <tr>\n",
       "      <th>12301</th>\n",
       "      <td>whatnots</td>\n",
       "      <td>1</td>\n",
       "      <td>1</td>\n",
       "      <td>12308.0</td>\n",
       "      <td>0.000003</td>\n",
       "      <td>0.999958</td>\n",
       "      <td>0.000131</td>\n",
       "    </tr>\n",
       "    <tr>\n",
       "      <th>12303</th>\n",
       "      <td>buuuuuut</td>\n",
       "      <td>1</td>\n",
       "      <td>1</td>\n",
       "      <td>12309.0</td>\n",
       "      <td>0.000003</td>\n",
       "      <td>0.999961</td>\n",
       "      <td>0.000131</td>\n",
       "    </tr>\n",
       "    <tr>\n",
       "      <th>12305</th>\n",
       "      <td>holla</td>\n",
       "      <td>1</td>\n",
       "      <td>1</td>\n",
       "      <td>12310.0</td>\n",
       "      <td>0.000003</td>\n",
       "      <td>0.999964</td>\n",
       "      <td>0.000131</td>\n",
       "    </tr>\n",
       "    <tr>\n",
       "      <th>12308</th>\n",
       "      <td>shelby</td>\n",
       "      <td>1</td>\n",
       "      <td>1</td>\n",
       "      <td>12311.0</td>\n",
       "      <td>0.000003</td>\n",
       "      <td>0.999967</td>\n",
       "      <td>0.000131</td>\n",
       "    </tr>\n",
       "    <tr>\n",
       "      <th>12312</th>\n",
       "      <td>foodwise</td>\n",
       "      <td>1</td>\n",
       "      <td>1</td>\n",
       "      <td>12312.0</td>\n",
       "      <td>0.000003</td>\n",
       "      <td>0.999970</td>\n",
       "      <td>0.000131</td>\n",
       "    </tr>\n",
       "    <tr>\n",
       "      <th>12310</th>\n",
       "      <td>foodgasm</td>\n",
       "      <td>1</td>\n",
       "      <td>1</td>\n",
       "      <td>12313.0</td>\n",
       "      <td>0.000003</td>\n",
       "      <td>0.999973</td>\n",
       "      <td>0.000131</td>\n",
       "    </tr>\n",
       "    <tr>\n",
       "      <th>12309</th>\n",
       "      <td>lentil</td>\n",
       "      <td>1</td>\n",
       "      <td>1</td>\n",
       "      <td>12314.0</td>\n",
       "      <td>0.000003</td>\n",
       "      <td>0.999976</td>\n",
       "      <td>0.000131</td>\n",
       "    </tr>\n",
       "    <tr>\n",
       "      <th>12311</th>\n",
       "      <td>mum</td>\n",
       "      <td>1</td>\n",
       "      <td>1</td>\n",
       "      <td>12315.0</td>\n",
       "      <td>0.000003</td>\n",
       "      <td>0.999979</td>\n",
       "      <td>0.000131</td>\n",
       "    </tr>\n",
       "    <tr>\n",
       "      <th>12313</th>\n",
       "      <td>uneventful</td>\n",
       "      <td>1</td>\n",
       "      <td>1</td>\n",
       "      <td>12316.0</td>\n",
       "      <td>0.000003</td>\n",
       "      <td>0.999982</td>\n",
       "      <td>0.000131</td>\n",
       "    </tr>\n",
       "    <tr>\n",
       "      <th>12315</th>\n",
       "      <td>romaine</td>\n",
       "      <td>1</td>\n",
       "      <td>1</td>\n",
       "      <td>12317.0</td>\n",
       "      <td>0.000003</td>\n",
       "      <td>0.999985</td>\n",
       "      <td>0.000131</td>\n",
       "    </tr>\n",
       "    <tr>\n",
       "      <th>12317</th>\n",
       "      <td>predictably</td>\n",
       "      <td>1</td>\n",
       "      <td>1</td>\n",
       "      <td>12318.0</td>\n",
       "      <td>0.000003</td>\n",
       "      <td>0.999988</td>\n",
       "      <td>0.000131</td>\n",
       "    </tr>\n",
       "    <tr>\n",
       "      <th>12316</th>\n",
       "      <td>blts</td>\n",
       "      <td>1</td>\n",
       "      <td>1</td>\n",
       "      <td>12319.0</td>\n",
       "      <td>0.000003</td>\n",
       "      <td>0.999991</td>\n",
       "      <td>0.000131</td>\n",
       "    </tr>\n",
       "    <tr>\n",
       "      <th>12318</th>\n",
       "      <td>actuality</td>\n",
       "      <td>1</td>\n",
       "      <td>1</td>\n",
       "      <td>12320.0</td>\n",
       "      <td>0.000003</td>\n",
       "      <td>0.999994</td>\n",
       "      <td>0.000131</td>\n",
       "    </tr>\n",
       "    <tr>\n",
       "      <th>12319</th>\n",
       "      <td>crass</td>\n",
       "      <td>1</td>\n",
       "      <td>1</td>\n",
       "      <td>12321.0</td>\n",
       "      <td>0.000003</td>\n",
       "      <td>0.999997</td>\n",
       "      <td>0.000131</td>\n",
       "    </tr>\n",
       "    <tr>\n",
       "      <th>12320</th>\n",
       "      <td>digestion</td>\n",
       "      <td>1</td>\n",
       "      <td>1</td>\n",
       "      <td>12322.0</td>\n",
       "      <td>0.000003</td>\n",
       "      <td>1.000000</td>\n",
       "      <td>0.000131</td>\n",
       "    </tr>\n",
       "  </tbody>\n",
       "</table>\n",
       "</div>"
      ],
      "text/plain": [
       "              word  appears_in  count     rank  pct_total  cul_pct_total  \\\n",
       "12297    balsalmic           1      1  12303.0   0.000003       0.999943   \n",
       "12300        beast           1      1  12304.0   0.000003       0.999946   \n",
       "12302       ridick           1      1  12305.0   0.000003       0.999949   \n",
       "12304       whited           1      1  12306.0   0.000003       0.999952   \n",
       "12299      divorce           1      1  12307.0   0.000003       0.999955   \n",
       "12301     whatnots           1      1  12308.0   0.000003       0.999958   \n",
       "12303     buuuuuut           1      1  12309.0   0.000003       0.999961   \n",
       "12305        holla           1      1  12310.0   0.000003       0.999964   \n",
       "12308       shelby           1      1  12311.0   0.000003       0.999967   \n",
       "12312     foodwise           1      1  12312.0   0.000003       0.999970   \n",
       "12310     foodgasm           1      1  12313.0   0.000003       0.999973   \n",
       "12309       lentil           1      1  12314.0   0.000003       0.999976   \n",
       "12311          mum           1      1  12315.0   0.000003       0.999979   \n",
       "12313   uneventful           1      1  12316.0   0.000003       0.999982   \n",
       "12315      romaine           1      1  12317.0   0.000003       0.999985   \n",
       "12317  predictably           1      1  12318.0   0.000003       0.999988   \n",
       "12316         blts           1      1  12319.0   0.000003       0.999991   \n",
       "12318    actuality           1      1  12320.0   0.000003       0.999994   \n",
       "12319        crass           1      1  12321.0   0.000003       0.999997   \n",
       "12320    digestion           1      1  12322.0   0.000003       1.000000   \n",
       "\n",
       "       appears_in_pct  \n",
       "12297        0.000131  \n",
       "12300        0.000131  \n",
       "12302        0.000131  \n",
       "12304        0.000131  \n",
       "12299        0.000131  \n",
       "12301        0.000131  \n",
       "12303        0.000131  \n",
       "12305        0.000131  \n",
       "12308        0.000131  \n",
       "12312        0.000131  \n",
       "12310        0.000131  \n",
       "12309        0.000131  \n",
       "12311        0.000131  \n",
       "12313        0.000131  \n",
       "12315        0.000131  \n",
       "12317        0.000131  \n",
       "12316        0.000131  \n",
       "12318        0.000131  \n",
       "12319        0.000131  \n",
       "12320        0.000131  "
      ]
     },
     "metadata": {},
     "output_type": "display_data"
    }
   ],
   "source": [
    "wc = count(shops['tokenized_review'])\n",
    "print(wc.shape)\n",
    "display(wc.head(20))\n",
    "display(wc.tail(20))"
   ]
  },
  {
   "cell_type": "code",
   "execution_count": 320,
   "metadata": {},
   "outputs": [
    {
     "data": {
      "image/png": "[encoded data removed]",
      "text/plain": [
       "<Figure size 432x288 with 1 Axes>"
      ]
     },
     "metadata": {
      "needs_background": "light"
     },
     "output_type": "display_data"
    }
   ],
   "source": [
    "sns.lineplot(x='rank', y='cul_pct_total', data=wc);"
   ]
  },
  {
   "cell_type": "code",
   "execution_count": 362,
   "metadata": {},
   "outputs": [
    {
     "data": {
      "image/png": "[encoded data removed]",
      "text/plain": [
       "<Figure size 576x576 with 1 Axes>"
      ]
     },
     "metadata": {
      "needs_background": "light"
     },
     "output_type": "display_data"
    }
   ],
   "source": [
    "wc_top20 = wc[wc['rank'] <= 20]\n",
    "\n",
    "plt.figure(figsize=(8,8))\n",
    "squarify.plot(sizes=wc_top20['pct_total'], label=wc_top20['word'], alpha=.8 )\n",
    "plt.axis('off')\n",
    "plt.show()"
   ]
  },
  {
   "cell_type": "markdown",
   "metadata": {},
   "source": [
    "## Can visualize the words with the greatest difference in counts between 'good' & 'bad'?\n",
    "\n",
    "Couple Notes: \n",
    "- Rel. freq. instead of absolute counts b/c of different numbers of reviews\n",
    "- Only look at the top 5-10 words with the greatest differences\n"
   ]
  },
  {
   "cell_type": "code",
   "execution_count": 366,
   "metadata": {},
   "outputs": [],
   "source": [
    "good = shops[shops['star_rating'].isin([\" 5.0 star rating \",\" 4.0 star rating \"])]\n",
    "bad = shops[shops['star_rating'].isin([\" 2.0 star rating \",\" 1.0 star rating \"])]"
   ]
  },
  {
   "cell_type": "code",
   "execution_count": 367,
   "metadata": {},
   "outputs": [
    {
     "data": {
      "text/plain": [
       "0     5.0 star rating \n",
       "1     4.0 star rating \n",
       "2     4.0 star rating \n",
       "3     2.0 star rating \n",
       "4     4.0 star rating \n",
       "Name: star_rating, dtype: object"
      ]
     },
     "execution_count": 367,
     "metadata": {},
     "output_type": "execute_result"
    }
   ],
   "source": [
    "shops['star_rating'].head(5)"
   ]
  },
  {
   "cell_type": "code",
   "execution_count": 351,
   "metadata": {},
   "outputs": [
    {
     "data": {
      "image/png": "[encoded data removed]",
      "text/plain": [
       "<Figure size 576x576 with 1 Axes>"
      ]
     },
     "metadata": {
      "needs_background": "light"
     },
     "output_type": "display_data"
    }
   ],
   "source": [
    "wc = count(good['tokenized_review'])\n",
    "wc_top20 = wc[wc['rank'] <= 10]\n",
    "\n",
    "plt.figure(figsize=(8,8))\n",
    "squarify.plot(sizes=wc_top20['pct_total'], label=wc_top20['word'], alpha=.8 )\n",
    "plt.axis('off')\n",
    "plt.show()"
   ]
  },
  {
   "cell_type": "code",
   "execution_count": 352,
   "metadata": {},
   "outputs": [
    {
     "data": {
      "image/png": "[encoded data removed]",
      "text/plain": [
       "<Figure size 576x576 with 1 Axes>"
      ]
     },
     "metadata": {
      "needs_background": "light"
     },
     "output_type": "display_data"
    }
   ],
   "source": [
    "wc = count(bad['tokenized_review'])\n",
    "wc_top20 = wc[wc['rank'] <= 10]\n",
    "\n",
    "plt.figure(figsize=(8,8))\n",
    "squarify.plot(sizes=wc_top20['pct_total'], label=wc_top20['word'], alpha=.8 )\n",
    "plt.axis('off')\n",
    "plt.show()"
   ]
  },
  {
   "cell_type": "markdown",
   "metadata": {
    "colab_type": "text",
    "id": "1dCb1q8XphcP",
    "toc-hr-collapsed": true
   },
   "source": [
    "## Stretch Goals\n",
    "\n",
    "* Analyze another corpus of documents - such as Indeed.com job listings ;).\n",
    "* Play with the Spacy API to\n",
    " - Extract Named Entities\n",
    " - Extracting 'noun chunks'\n",
    " - Attempt Document Classification with just Spacy\n",
    " - *Note:* This [course](https://course.spacy.io/) will be of interesting in helping you with these stretch goals. \n",
    "* Try to build a plotly dash app with your text data \n",
    "\n"
   ]
  }
 ],
 "metadata": {
  "colab": {
   "collapsed_sections": [],
   "name": "LS_DS_421_Text_Data_Assignment.ipynb",
   "provenance": [],
   "version": "0.3.2"
  },
  "kernelspec": {
   "display_name": "U4-S1-NLP (Python3)",
   "language": "python",
   "name": "u4-s1-nlp"
  },
  "language_info": {
   "codemirror_mode": {
    "name": "ipython",
    "version": 3
   },
   "file_extension": ".py",
   "mimetype": "text/x-python",
   "name": "python",
   "nbconvert_exporter": "python",
   "pygments_lexer": "ipython3",
   "version": "3.9.1"
  },
  "toc-autonumbering": false
 },
 "nbformat": 4,
 "nbformat_minor": 4
}
